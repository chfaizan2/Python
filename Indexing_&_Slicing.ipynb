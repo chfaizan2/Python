{
  "nbformat": 4,
  "nbformat_minor": 0,
  "metadata": {
    "colab": {
      "provenance": []
    },
    "kernelspec": {
      "name": "python3",
      "display_name": "Python 3"
    },
    "language_info": {
      "name": "python"
    }
  },
  "cells": [
    {
      "cell_type": "code",
      "execution_count": 1,
      "metadata": {
        "id": "C4CZSc9uImqD",
        "colab": {
          "base_uri": "https://localhost:8080/"
        },
        "outputId": "09551ea3-81d0-49f3-a445-08eb2bfcbf8c"
      },
      "outputs": [
        {
          "output_type": "execute_result",
          "data": {
            "text/plain": [
              "2.22"
            ]
          },
          "metadata": {},
          "execution_count": 1
        }
      ],
      "source": [
        "# Indexing\n",
        "x= [2,5,'Pakistan',8.22,\"Multan\",2.22]\n",
        "x[5]"
      ]
    },
    {
      "cell_type": "code",
      "source": [
        "# Slicing\n",
        "x[1:4+1]"
      ],
      "metadata": {
        "id": "V2SZAiTLQjOl",
        "colab": {
          "base_uri": "https://localhost:8080/"
        },
        "outputId": "fd4d438f-fc42-45b5-9d40-faf3d543c258"
      },
      "execution_count": 2,
      "outputs": [
        {
          "output_type": "execute_result",
          "data": {
            "text/plain": [
              "[5, 'Pakistan', 8.22, 'Multan']"
            ]
          },
          "metadata": {},
          "execution_count": 2
        }
      ]
    },
    {
      "cell_type": "code",
      "source": [
        "x[0:5+1:2]"
      ],
      "metadata": {
        "id": "Ylf-IomMQjL2",
        "colab": {
          "base_uri": "https://localhost:8080/"
        },
        "outputId": "8a3240ba-ef61-4337-9569-d34fa6c2284c"
      },
      "execution_count": 3,
      "outputs": [
        {
          "output_type": "execute_result",
          "data": {
            "text/plain": [
              "[2, 'Pakistan', 'Multan']"
            ]
          },
          "metadata": {},
          "execution_count": 3
        }
      ]
    },
    {
      "cell_type": "code",
      "source": [
        "for i in x:\n",
        "  print(i)"
      ],
      "metadata": {
        "id": "tuzy22m6QjH7",
        "colab": {
          "base_uri": "https://localhost:8080/"
        },
        "outputId": "78ea8248-1ce0-46f1-9c89-bfe08dcb7779"
      },
      "execution_count": 4,
      "outputs": [
        {
          "output_type": "stream",
          "name": "stdout",
          "text": [
            "2\n",
            "5\n",
            "Pakistan\n",
            "8.22\n",
            "Multan\n",
            "2.22\n"
          ]
        }
      ]
    },
    {
      "cell_type": "code",
      "source": [
        "Y= [\"pakistan\",23]\n",
        "Y[0]"
      ],
      "metadata": {
        "id": "bQ22RluZQjFI",
        "colab": {
          "base_uri": "https://localhost:8080/",
          "height": 35
        },
        "outputId": "ea1e14cd-42be-4a56-a8ef-7648bdb4f76f"
      },
      "execution_count": 5,
      "outputs": [
        {
          "output_type": "execute_result",
          "data": {
            "text/plain": [
              "'pakistan'"
            ],
            "application/vnd.google.colaboratory.intrinsic+json": {
              "type": "string"
            }
          },
          "metadata": {},
          "execution_count": 5
        }
      ]
    },
    {
      "cell_type": "code",
      "source": [
        "Y[0:1+1]"
      ],
      "metadata": {
        "id": "fUpADLZFQi9d",
        "colab": {
          "base_uri": "https://localhost:8080/"
        },
        "outputId": "4d18ac58-5140-4788-ca73-65995e437f6c"
      },
      "execution_count": 6,
      "outputs": [
        {
          "output_type": "execute_result",
          "data": {
            "text/plain": [
              "['pakistan', 23]"
            ]
          },
          "metadata": {},
          "execution_count": 6
        }
      ]
    },
    {
      "cell_type": "code",
      "source": [
        "x= [\"apple\",\"banana\",\"orange\"]"
      ],
      "metadata": {
        "id": "HROkWCtkdIOK"
      },
      "execution_count": 7,
      "outputs": []
    }
  ]
}