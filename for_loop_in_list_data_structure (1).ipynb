{
  "nbformat": 4,
  "nbformat_minor": 0,
  "metadata": {
    "colab": {
      "provenance": []
    },
    "kernelspec": {
      "name": "python3",
      "display_name": "Python 3"
    },
    "language_info": {
      "name": "python"
    }
  },
  "cells": [
    {
      "cell_type": "code",
      "execution_count": null,
      "metadata": {
        "colab": {
          "base_uri": "https://localhost:8080/"
        },
        "id": "GZdZP2GLasfQ",
        "outputId": "60335621-c705-4bf9-c045-9011a9629dd2"
      },
      "outputs": [
        {
          "output_type": "stream",
          "name": "stdout",
          "text": [
            "[5, 3, 0, -6, -1, 2, 11, 10]\n"
          ]
        }
      ],
      "source": [
        "list= [5,3,0,-6,-1,2,11,10]\n",
        "print(list)"
      ]
    },
    {
      "cell_type": "code",
      "source": [
        "for i in list:\n",
        "  if i < 0:\n",
        "    print(\"negetive\")\n",
        "  elif i > 0:\n",
        "    print(\"positive\")\n",
        "  else:\n",
        "    print(\"zero\")"
      ],
      "metadata": {
        "colab": {
          "base_uri": "https://localhost:8080/"
        },
        "id": "egWxhRD_dti6",
        "outputId": "fb2357ff-7f96-48c2-b6d6-3e2f205b8db2"
      },
      "execution_count": null,
      "outputs": [
        {
          "output_type": "stream",
          "name": "stdout",
          "text": [
            "positive\n",
            "positive\n",
            "zero\n",
            "negetive\n",
            "negetive\n",
            "positive\n",
            "positive\n",
            "positive\n"
          ]
        }
      ]
    },
    {
      "cell_type": "code",
      "source": [
        "for i in list:\n",
        "  if i % 2 == 0:\n",
        "    print(\"Even\")\n",
        "  else:\n",
        "    print(\"Odd\")\n"
      ],
      "metadata": {
        "colab": {
          "base_uri": "https://localhost:8080/"
        },
        "id": "ReTrIpIDdtf7",
        "outputId": "d0bf1fc5-3122-4e4d-9665-dfcaa58557c6"
      },
      "execution_count": null,
      "outputs": [
        {
          "output_type": "stream",
          "name": "stdout",
          "text": [
            "Odd\n",
            "Odd\n",
            "Even\n",
            "Even\n",
            "Odd\n",
            "Even\n",
            "Odd\n",
            "Even\n"
          ]
        }
      ]
    },
    {
      "cell_type": "code",
      "source": [
        "for i in list:\n",
        "  if i > 10:\n",
        "    print(\"Greater than 10\")\n",
        "  elif i <10:\n",
        "    print(\"Less than 10\")\n",
        "  else:\n",
        "    print(\"Exactly 10\")"
      ],
      "metadata": {
        "colab": {
          "base_uri": "https://localhost:8080/"
        },
        "id": "MCeVf9ycdtc2",
        "outputId": "f1dac1a1-a715-4652-a0af-e4139c7e8dae"
      },
      "execution_count": null,
      "outputs": [
        {
          "output_type": "stream",
          "name": "stdout",
          "text": [
            "Less than 10\n",
            "Less than 10\n",
            "Less than 10\n",
            "Less than 10\n",
            "Less than 10\n",
            "Less than 10\n",
            "Greater than 10\n",
            "Exactly 10\n"
          ]
        }
      ]
    },
    {
      "cell_type": "code",
      "source": [
        "for i in list:\n",
        "  x= i**2\n",
        "  print(x)\n"
      ],
      "metadata": {
        "colab": {
          "base_uri": "https://localhost:8080/"
        },
        "id": "O-ql93IEdtZ2",
        "outputId": "5258c91f-0d23-4ca3-fa29-2704cabc3024"
      },
      "execution_count": null,
      "outputs": [
        {
          "output_type": "stream",
          "name": "stdout",
          "text": [
            "25\n",
            "9\n",
            "0\n",
            "36\n",
            "1\n",
            "4\n",
            "121\n",
            "100\n"
          ]
        }
      ]
    },
    {
      "cell_type": "code",
      "source": [
        "print(list)"
      ],
      "metadata": {
        "colab": {
          "base_uri": "https://localhost:8080/"
        },
        "id": "VJzylPuddtWm",
        "outputId": "7d72610d-687d-4683-efe5-aa9a4e2b8d99"
      },
      "execution_count": null,
      "outputs": [
        {
          "output_type": "stream",
          "name": "stdout",
          "text": [
            "[5, 3, 0, -6, -1, 2, 11, 10]\n"
          ]
        }
      ]
    },
    {
      "cell_type": "code",
      "source": [
        "sum = 0\n",
        "for i in list:\n",
        "  sum += i\n",
        "print(sum)\n",
        "\n",
        "\n"
      ],
      "metadata": {
        "colab": {
          "base_uri": "https://localhost:8080/"
        },
        "id": "rTLSe5aGdtTx",
        "outputId": "aaeced98-c74f-4fa8-872e-a22927a7e9f5"
      },
      "execution_count": null,
      "outputs": [
        {
          "output_type": "stream",
          "name": "stdout",
          "text": [
            "24\n"
          ]
        }
      ]
    }
  ]
}