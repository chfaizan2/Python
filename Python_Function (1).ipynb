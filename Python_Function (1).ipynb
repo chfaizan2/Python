{
  "nbformat": 4,
  "nbformat_minor": 0,
  "metadata": {
    "colab": {
      "provenance": []
    },
    "kernelspec": {
      "name": "python3",
      "display_name": "Python 3"
    },
    "language_info": {
      "name": "python"
    }
  },
  "cells": [
    {
      "cell_type": "code",
      "source": [
        "stock ={\n",
        "    \"Sr Nmb\":24,\n",
        "    \"Date\":6,\n",
        "    \"Product ID\":546,\n",
        "    \"Quantity\":150\n",
        "}\n",
        "\n",
        "\n",
        "def increase_items(x):\n",
        "   for i in x:\n",
        "      x[i] += 10\n",
        "increase_items(stock)\n",
        "print(stock)\n",
        "\n"
      ],
      "metadata": {
        "colab": {
          "base_uri": "https://localhost:8080/"
        },
        "id": "1jUix1dXVnuW",
        "outputId": "8b666051-4d98-42c2-fb22-c9210612489c"
      },
      "execution_count": null,
      "outputs": [
        {
          "output_type": "stream",
          "name": "stdout",
          "text": [
            "{'Sr Nmb': 34, 'Date': 16, 'Product ID': 556, 'Quantity': 160}\n"
          ]
        }
      ]
    },
    {
      "cell_type": "code",
      "source": [
        "a=55\n",
        "b=88\n",
        "def highest_nmb(val1,val2):\n",
        "    if val2 < val1:\n",
        "      print(val1,\"is the highest\")\n",
        "    else:\n",
        "      print(val2,\"is the highest\")\n",
        "highest_nmb(a,b)\n"
      ],
      "metadata": {
        "colab": {
          "base_uri": "https://localhost:8080/"
        },
        "id": "z2TUKedbVnq3",
        "outputId": "794d3f37-1d07-479c-952c-be762c257103"
      },
      "execution_count": null,
      "outputs": [
        {
          "output_type": "stream",
          "name": "stdout",
          "text": [
            "88 is the highest\n"
          ]
        }
      ]
    },
    {
      "cell_type": "code",
      "source": [
        "# calling a function\n",
        "def my_func():\n",
        "   print(\"Hello from a function\")\n",
        "my_func()"
      ],
      "metadata": {
        "colab": {
          "base_uri": "https://localhost:8080/"
        },
        "id": "7zgMIJoPVnnp",
        "outputId": "59fce5b8-b94e-4c88-9e2f-c68d237766d4"
      },
      "execution_count": null,
      "outputs": [
        {
          "output_type": "stream",
          "name": "stdout",
          "text": [
            "Hello from a function\n"
          ]
        }
      ]
    },
    {
      "cell_type": "code",
      "source": [
        "# Arguments\n",
        "def my_func(fname):\n",
        "   print(fname + \" refsense\")\n",
        "my_func(\"akbar\")\n",
        "my_func(\"saad\")\n",
        "my_func(\"usama\")"
      ],
      "metadata": {
        "colab": {
          "base_uri": "https://localhost:8080/"
        },
        "id": "lZeKa3tpVnjg",
        "outputId": "7fb88f20-1cd0-4ae5-a8d9-bf8e769ebd38"
      },
      "execution_count": null,
      "outputs": [
        {
          "output_type": "stream",
          "name": "stdout",
          "text": [
            "akbar refsense\n",
            "saad refsense\n",
            "usama refsense\n"
          ]
        }
      ]
    },
    {
      "cell_type": "code",
      "source": [
        "# number of arguments\n",
        "def my_func(fname,lname):\n",
        "   print(fname + \" \" + lname)\n",
        "my_func(\"email\",\"refsense\")"
      ],
      "metadata": {
        "colab": {
          "base_uri": "https://localhost:8080/"
        },
        "id": "9WzhAy6AVnfh",
        "outputId": "76250430-9c3e-4028-c4e7-3a17be8853f2"
      },
      "execution_count": null,
      "outputs": [
        {
          "output_type": "stream",
          "name": "stdout",
          "text": [
            "email refsense\n"
          ]
        }
      ]
    }
  ]
}