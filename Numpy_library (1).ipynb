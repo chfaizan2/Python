{
  "nbformat": 4,
  "nbformat_minor": 0,
  "metadata": {
    "colab": {
      "provenance": []
    },
    "kernelspec": {
      "name": "python3",
      "display_name": "Python 3"
    },
    "language_info": {
      "name": "python"
    }
  },
  "cells": [
    {
      "cell_type": "code",
      "execution_count": null,
      "metadata": {
        "colab": {
          "base_uri": "https://localhost:8080/"
        },
        "id": "MPNb6ZxTPj4k",
        "outputId": "486eb831-3b3a-463b-8e64-05be67056639"
      },
      "outputs": [
        {
          "output_type": "stream",
          "name": "stdout",
          "text": [
            "[  1   2   3   4   5   6   7   8   9  10  11  12  13  14  15  16  17  18\n",
            "  19  20  21  22  23  24  25  26  27  28  29  30  31  32  33  34  35  36\n",
            "  37  38  39  40  41  42  43  44  45  46  47  48  49  50  51  52  53  54\n",
            "  55  56  57  58  59  60  61  62  63  64  65  66  67  68  69  70  71  72\n",
            "  73  74  75  76  77  78  79  80  81  82  83  84  85  86  87  88  89  90\n",
            "  91  92  93  94  95  96  97  98  99 100]\n",
            "[[  1   2   3   4   5   6   7   8   9  10]\n",
            " [ 11  12  13  14  15  16  17  18  19  20]\n",
            " [ 21  22  23  24  25  26  27  28  29  30]\n",
            " [ 31  32  33  34  35  36  37  38  39  40]\n",
            " [ 41  42  43  44  45  46  47  48  49  50]\n",
            " [ 51  52  53  54  55  56  57  58  59  60]\n",
            " [ 61  62  63  64  65  66  67  68  69  70]\n",
            " [ 71  72  73  74  75  76  77  78  79  80]\n",
            " [ 81  82  83  84  85  86  87  88  89  90]\n",
            " [ 91  92  93  94  95  96  97  98  99 100]]\n",
            "[ 55 155 255 355 455 555 655 755 855 955]\n",
            "9\n",
            "0\n"
          ]
        }
      ],
      "source": [
        "import numpy as np\n",
        "arr= np.arange(1,101)\n",
        "arr_2d= arr.reshape(10,10)\n",
        "print(arr)\n",
        "print(arr_2d)\n",
        "# Sum of each row\n",
        "row_sum= np.sum(arr_2d, axis=1)\n",
        "# Maximum sum\n",
        "max_sum= np.argmax(row_sum)\n",
        "# Minimum sum\n",
        "min_sum= np.argmin(row_sum)\n",
        "print(row_sum)\n",
        "print(max_sum)\n",
        "print(min_sum)\n"
      ]
    },
    {
      "cell_type": "code",
      "source": [
        "import numpy as np\n",
        "arr_2d= np.random.rand(5,5)\n",
        "print(arr_2d)\n",
        "last_colum= np.mean(arr_2d[:, -1])\n",
        "arr_2d[:, -1]= last_colum\n",
        "print(arr_2d)\n"
      ],
      "metadata": {
        "colab": {
          "base_uri": "https://localhost:8080/"
        },
        "id": "j_jzY29jZe4X",
        "outputId": "99617eae-bcef-4816-c43d-9df4f0500af5"
      },
      "execution_count": null,
      "outputs": [
        {
          "output_type": "stream",
          "name": "stdout",
          "text": [
            "[[0.8962175  0.20820083 0.06979606 0.35015626 0.61778009]\n",
            " [0.50131576 0.27969534 0.22855454 0.30482523 0.21959007]\n",
            " [0.15266507 0.24883966 0.28778318 0.2591587  0.40947095]\n",
            " [0.01519999 0.49622117 0.53128946 0.73293682 0.83362981]\n",
            " [0.19014544 0.83946444 0.92931486 0.33234396 0.8271213 ]]\n",
            "[[0.8962175  0.20820083 0.06979606 0.35015626 0.58151844]\n",
            " [0.50131576 0.27969534 0.22855454 0.30482523 0.58151844]\n",
            " [0.15266507 0.24883966 0.28778318 0.2591587  0.58151844]\n",
            " [0.01519999 0.49622117 0.53128946 0.73293682 0.58151844]\n",
            " [0.19014544 0.83946444 0.92931486 0.33234396 0.58151844]]\n"
          ]
        }
      ]
    },
    {
      "cell_type": "code",
      "source": [
        "# 2d arry with (3,5) random normal shape\n",
        "import numpy as np\n",
        "arr_2d= np.random.normal( size= (3,5))\n",
        "print(arr_2d)\n",
        "# Mean, Median and Standard deviation of array\n",
        "mean= np.mean(arr_2d)\n",
        "median= np.median(arr_2d)\n",
        "std_dev= np.std(arr_2d)\n",
        "print(mean)\n",
        "print(median)\n",
        "print(std_dev)\n",
        "# Maxiumum and Minimum value of array\n",
        "max_value= np.max(arr_2d)\n",
        "min_value= np.min(arr_2d)\n",
        "print(max_value)\n",
        "print(min_value)\n",
        "#  Maxiumum and Minimum position of array\n",
        "max_position= np.argmax(arr_2d)\n",
        "min_position= np.argmin(arr_2d)\n",
        "print(max_position)\n",
        "print(min_position)\n",
        "\n",
        "\n",
        "\n"
      ],
      "metadata": {
        "colab": {
          "base_uri": "https://localhost:8080/"
        },
        "outputId": "57873abf-b524-46b2-c324-3fb314b41127",
        "id": "X7A5piEdLZnR"
      },
      "execution_count": null,
      "outputs": [
        {
          "output_type": "stream",
          "name": "stdout",
          "text": [
            "[[-0.5082831  -0.12165451  0.71524206  1.13112996  2.71202496]\n",
            " [ 0.50810248  0.44076014 -1.09247576 -0.71945243 -1.47145549]\n",
            " [ 1.05911401  0.78223577  2.22635579 -0.91796979 -1.16003426]]\n",
            "0.23890932147383367\n",
            "0.4407601370976226\n",
            "1.2047254044376114\n",
            "2.712024957622594\n",
            "-1.4714554875263717\n",
            "4\n",
            "9\n"
          ]
        }
      ]
    },
    {
      "cell_type": "code",
      "source": [
        "import numpy as np\n",
        "# Create (4,4) matrix\n",
        "arr= np.array([1,2,3,4,5,6,7,8,9,10,11,12,13,14,15,16])\n",
        "x= arr.reshape(4,4)\n",
        "print(x)\n",
        "Extrac_rows= x[1:3, :]\n",
        "print(Extrac_rows)\n",
        "matrix= Extrac_rows[:, 1:3]\n",
        "print(matrix)\n",
        "for row in matrix:\n",
        "  for element in row:\n",
        "    print(element**2)"
      ],
      "metadata": {
        "colab": {
          "base_uri": "https://localhost:8080/"
        },
        "id": "1aX7JmEIPdFd",
        "outputId": "d4b79e7b-43c2-44c7-acae-8fe6a5753638"
      },
      "execution_count": null,
      "outputs": [
        {
          "output_type": "stream",
          "name": "stdout",
          "text": [
            "[[ 1  2  3  4]\n",
            " [ 5  6  7  8]\n",
            " [ 9 10 11 12]\n",
            " [13 14 15 16]]\n",
            "[[ 5  6  7  8]\n",
            " [ 9 10 11 12]]\n",
            "[[ 6  7]\n",
            " [10 11]]\n",
            "36\n",
            "49\n",
            "100\n",
            "121\n"
          ]
        }
      ]
    }
  ]
}