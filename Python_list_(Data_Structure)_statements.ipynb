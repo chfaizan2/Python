{
  "nbformat": 4,
  "nbformat_minor": 0,
  "metadata": {
    "colab": {
      "provenance": []
    },
    "kernelspec": {
      "name": "python3",
      "display_name": "Python 3"
    },
    "language_info": {
      "name": "python"
    }
  },
  "cells": [
    {
      "cell_type": "markdown",
      "source": [
        "# program No.1\n",
        "write a Python program that initialize a list with numbers and uses a for loop to calculate the sum of the elements in the list."
      ],
      "metadata": {
        "id": "8fke425alaO5"
      }
    },
    {
      "cell_type": "code",
      "execution_count": null,
      "metadata": {
        "colab": {
          "base_uri": "https://localhost:8080/"
        },
        "id": "Wi3X2TRtgpko",
        "outputId": "8991119f-cfd2-436e-d385-b91403c8bfa5"
      },
      "outputs": [
        {
          "output_type": "stream",
          "name": "stdout",
          "text": [
            "22\n"
          ]
        }
      ],
      "source": [
        "x= [3,5,8,6]\n",
        "sum= 0\n",
        "for i in x:\n",
        "  sum= sum + i\n",
        "print(sum)"
      ]
    },
    {
      "cell_type": "markdown",
      "source": [
        "# program no.2\n",
        "create a Python script where a list of numbers is given, use for loop to iterate through the list and multiply each element by a specific number storing the result in the new list"
      ],
      "metadata": {
        "id": "k73VWOG0lhpW"
      }
    },
    {
      "cell_type": "code",
      "source": [
        "x= [7,8,9,3]\n",
        "m=3\n",
        "reasult_list= []\n",
        "for i in x:\n",
        "  reasult= i*m\n",
        "  reasult_list.append(reasult)\n",
        "print(\"original list\",x)\n",
        "print(\"Reasult list\",reasult_list)\n",
        "\n",
        "\n"
      ],
      "metadata": {
        "colab": {
          "base_uri": "https://localhost:8080/"
        },
        "id": "yIVkZ2qnlgqa",
        "outputId": "0e5463f5-d28e-4bf6-cda4-fd1e9a43a5c9"
      },
      "execution_count": null,
      "outputs": [
        {
          "output_type": "stream",
          "name": "stdout",
          "text": [
            "original list [7, 8, 9, 3]\n",
            "Reasult list [21, 24, 27, 9]\n"
          ]
        }
      ]
    },
    {
      "cell_type": "markdown",
      "source": [
        "# Program No.3\n",
        "Write a Python program that uses a for loop to generate the list of the squares of the first 10 positive integers."
      ],
      "metadata": {
        "id": "PgEcSzNj0HWa"
      }
    },
    {
      "cell_type": "code",
      "source": [
        "#x= [1,-4,9,-16, ...,100]\n",
        "square_list= []\n",
        "for i in range(1,11):\n",
        "  square_list.append(i**2)\n",
        "print(\"square list\",square_list)\n"
      ],
      "metadata": {
        "colab": {
          "base_uri": "https://localhost:8080/"
        },
        "id": "u9sdYKBvlgnc",
        "outputId": "39a90de7-bb8d-478e-8804-b5e34df8d52c"
      },
      "execution_count": null,
      "outputs": [
        {
          "output_type": "stream",
          "name": "stdout",
          "text": [
            "square list [1, 4, 9, 16, 25, 36, 49, 64, 81, 100]\n"
          ]
        }
      ]
    },
    {
      "cell_type": "markdown",
      "source": [
        "# Program No.4\n",
        "create a Python script that initializes a list with a mix of elements including strings and numbers. Uses for loop to count how many integers are present in the list and print the count\n"
      ],
      "metadata": {
        "id": "uJHLC167A-Jg"
      }
    },
    {
      "cell_type": "code",
      "source": [
        "x= [4,\"banana\",5,\"apple\",\"grape\",6,\"orange\",8]\n",
        "int_count= 0\n",
        "for i in x:\n",
        "  if isinstance(i,int):\n",
        "    int_count += 1\n",
        "print(\"integer in the list\",int_count)"
      ],
      "metadata": {
        "colab": {
          "base_uri": "https://localhost:8080/"
        },
        "id": "sRHKcMZslgkj",
        "outputId": "6ecab0a3-c37e-4152-a2d1-5f2411f782ac"
      },
      "execution_count": null,
      "outputs": [
        {
          "output_type": "stream",
          "name": "stdout",
          "text": [
            "integer in the list 4\n"
          ]
        }
      ]
    }
  ]
}