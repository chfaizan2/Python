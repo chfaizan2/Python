{
  "nbformat": 4,
  "nbformat_minor": 0,
  "metadata": {
    "colab": {
      "provenance": []
    },
    "kernelspec": {
      "name": "python3",
      "display_name": "Python 3"
    },
    "language_info": {
      "name": "python"
    }
  },
  "cells": [
    {
      "cell_type": "code",
      "execution_count": null,
      "metadata": {
        "id": "9p9DnjiX0XLN"
      },
      "outputs": [],
      "source": [
        "car = {\n",
        "    \"band\": \"Toyota\",\n",
        "    \"model\": \"Corola Alsvin\",\n",
        "    \"price\": 40000000,\n",
        "    \"features\": [\"Air Bags\", \"Rare Camera\", \"Heating Seats\", \"ABS Brakes\"]\n",
        "}"
      ]
    },
    {
      "cell_type": "code",
      "source": [
        "print(car)"
      ],
      "metadata": {
        "colab": {
          "base_uri": "https://localhost:8080/"
        },
        "id": "HMXy9CMAAZAa",
        "outputId": "6c707830-8001-4cc2-9dbe-866b4aeccb26"
      },
      "execution_count": null,
      "outputs": [
        {
          "output_type": "stream",
          "name": "stdout",
          "text": [
            "{'band': 'Toyota', 'model': 'Corola Alsvin', 'price': 40000000, 'features': ['Air Bags', 'Rare Camera', 'Heating Seats', 'ABS Brakes']}\n"
          ]
        }
      ]
    },
    {
      "cell_type": "code",
      "source": [
        "type(car)"
      ],
      "metadata": {
        "colab": {
          "base_uri": "https://localhost:8080/"
        },
        "id": "JAg3QfktAbbI",
        "outputId": "8dde9f58-f13b-4393-f744-96f736a5d949"
      },
      "execution_count": null,
      "outputs": [
        {
          "output_type": "execute_result",
          "data": {
            "text/plain": [
              "dict"
            ]
          },
          "metadata": {},
          "execution_count": 22
        }
      ]
    },
    {
      "cell_type": "code",
      "source": [
        "car[\"model\"]"
      ],
      "metadata": {
        "colab": {
          "base_uri": "https://localhost:8080/",
          "height": 36
        },
        "id": "UpyyTKX6AeeE",
        "outputId": "0570dae0-69ff-4d90-93eb-b29016bc92e9"
      },
      "execution_count": null,
      "outputs": [
        {
          "output_type": "execute_result",
          "data": {
            "text/plain": [
              "'Corola Alsvin'"
            ],
            "application/vnd.google.colaboratory.intrinsic+json": {
              "type": "string"
            }
          },
          "metadata": {},
          "execution_count": 23
        }
      ]
    },
    {
      "cell_type": "code",
      "source": [
        "car[\"features\"]"
      ],
      "metadata": {
        "colab": {
          "base_uri": "https://localhost:8080/"
        },
        "id": "_G6YTVYfAl9m",
        "outputId": "659a36c8-48b3-41e9-8ed2-c19ca51734e0"
      },
      "execution_count": null,
      "outputs": [
        {
          "output_type": "execute_result",
          "data": {
            "text/plain": [
              "['Air Bags', 'Rare Camera', 'Heating Seats', 'ABS Brakes']"
            ]
          },
          "metadata": {},
          "execution_count": 24
        }
      ]
    },
    {
      "cell_type": "code",
      "source": [
        "car[\"price\"] = 35000000"
      ],
      "metadata": {
        "id": "5xalfHTDApO3"
      },
      "execution_count": null,
      "outputs": []
    },
    {
      "cell_type": "code",
      "source": [
        "car[\"price\"]"
      ],
      "metadata": {
        "colab": {
          "base_uri": "https://localhost:8080/"
        },
        "id": "aO1AEP2ZAvVV",
        "outputId": "8d89745a-bf5e-4f0e-a34e-2ca3fe0830f8"
      },
      "execution_count": null,
      "outputs": [
        {
          "output_type": "execute_result",
          "data": {
            "text/plain": [
              "35000000"
            ]
          },
          "metadata": {},
          "execution_count": 26
        }
      ]
    },
    {
      "cell_type": "code",
      "source": [
        "numbers = {\n",
        "    0: \"Zero\",\n",
        "    1: \"One\",\n",
        "    2: \"Two\",\n",
        "    3: \"Three\",\n",
        "    4: \"Four\",\n",
        "    5: \"Five\"\n",
        "}"
      ],
      "metadata": {
        "id": "OnLOtGHUA1O5"
      },
      "execution_count": null,
      "outputs": []
    },
    {
      "cell_type": "code",
      "source": [
        "numbers[2]"
      ],
      "metadata": {
        "colab": {
          "base_uri": "https://localhost:8080/",
          "height": 36
        },
        "id": "grMo32_lBNup",
        "outputId": "f6771c0b-e049-42ff-bdef-698e33fbfbde"
      },
      "execution_count": null,
      "outputs": [
        {
          "output_type": "execute_result",
          "data": {
            "text/plain": [
              "'Two'"
            ],
            "application/vnd.google.colaboratory.intrinsic+json": {
              "type": "string"
            }
          },
          "metadata": {},
          "execution_count": 28
        }
      ]
    },
    {
      "cell_type": "code",
      "source": [
        "numbers[5]"
      ],
      "metadata": {
        "colab": {
          "base_uri": "https://localhost:8080/",
          "height": 36
        },
        "id": "iC84nT1GBTZL",
        "outputId": "bd63aaef-1820-4ac4-8594-187d5802ad3d"
      },
      "execution_count": null,
      "outputs": [
        {
          "output_type": "execute_result",
          "data": {
            "text/plain": [
              "'Five'"
            ],
            "application/vnd.google.colaboratory.intrinsic+json": {
              "type": "string"
            }
          },
          "metadata": {},
          "execution_count": 29
        }
      ]
    },
    {
      "cell_type": "code",
      "source": [
        "car.items()"
      ],
      "metadata": {
        "colab": {
          "base_uri": "https://localhost:8080/"
        },
        "id": "PhrQMT02BXO0",
        "outputId": "618b4141-abaa-4248-f529-b9ba705b8d58"
      },
      "execution_count": null,
      "outputs": [
        {
          "output_type": "execute_result",
          "data": {
            "text/plain": [
              "dict_items([('band', 'Toyota'), ('model', 'Corola Alsvin'), ('price', 35000000), ('features', ['Air Bags', 'Rare Camera', 'Heating Seats', 'ABS Brakes'])])"
            ]
          },
          "metadata": {},
          "execution_count": 31
        }
      ]
    },
    {
      "cell_type": "code",
      "source": [
        "for k, v in car.items():\n",
        "  print(k, \"==\", v)"
      ],
      "metadata": {
        "colab": {
          "base_uri": "https://localhost:8080/"
        },
        "id": "jmpbsiwJBc4T",
        "outputId": "92e437c5-711e-4759-e6af-56e3e46d7638"
      },
      "execution_count": null,
      "outputs": [
        {
          "output_type": "stream",
          "name": "stdout",
          "text": [
            "band == Toyota\n",
            "model == Corola Alsvin\n",
            "price == 35000000\n",
            "features == ['Air Bags', 'Rare Camera', 'Heating Seats', 'ABS Brakes']\n"
          ]
        }
      ]
    },
    {
      "cell_type": "code",
      "source": [
        "car."
      ],
      "metadata": {
        "id": "d2wiBYQaC8_d"
      },
      "execution_count": null,
      "outputs": []
    }
  ]
}