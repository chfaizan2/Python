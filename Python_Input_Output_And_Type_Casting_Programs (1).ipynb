{
  "nbformat": 4,
  "nbformat_minor": 0,
  "metadata": {
    "colab": {
      "provenance": []
    },
    "kernelspec": {
      "name": "python3",
      "display_name": "Python 3"
    },
    "language_info": {
      "name": "python"
    }
  },
  "cells": [
    {
      "cell_type": "markdown",
      "source": [
        "# Program No.1\n",
        " Write a Python program that asks the user for their name, age, and favorite food using the input() function. After collecting this information, the program should print a message summarizing this information in a complete sentence. For example, \"Hello [Name], you are [Age] years old and your favorite food is [Food]."
      ],
      "metadata": {
        "id": "-MzUvC9aZpKJ"
      }
    },
    {
      "cell_type": "code",
      "execution_count": null,
      "metadata": {
        "colab": {
          "base_uri": "https://localhost:8080/"
        },
        "id": "W6PtsPMcXnqv",
        "outputId": "f82d3415-57da-4d00-dc7e-d27f05474f80"
      },
      "outputs": [
        {
          "output_type": "stream",
          "name": "stdout",
          "text": [
            "enter your nameFaizan\n",
            "enter your age25\n",
            "enter your foodbaryani\n",
            "Hello Faizan you are 25 years old and your favourite food is baryani\n"
          ]
        }
      ],
      "source": [
        "name= input(\"enter your name\")\n",
        "age= int(input(\"enter your age\"))\n",
        "food= input(\"enter your food\")\n",
        "print(\"Hello\",name,\"you are\", age,\"years old\",\"and your favourite food is\",food)\n"
      ]
    },
    {
      "cell_type": "markdown",
      "source": [
        "# Program No.2\n",
        " Develop a Python script that takes two inputs from the user. Perform type casting to convert the integer input to a string. Then, concatenate these two values and print the result."
      ],
      "metadata": {
        "id": "AamFCRR_dTd0"
      }
    },
    {
      "cell_type": "code",
      "source": [
        "num1= int(input(\"enter a num1\"))\n",
        "num2= int(input(\"enter a num2\"))\n",
        "x= str(num1)\n",
        "y= str(num2)\n",
        "print(x + y)"
      ],
      "metadata": {
        "colab": {
          "base_uri": "https://localhost:8080/"
        },
        "id": "i-SrXOUEdTD1",
        "outputId": "51fba2b3-5097-4f0b-81c5-01af0b9ce434"
      },
      "execution_count": null,
      "outputs": [
        {
          "output_type": "stream",
          "name": "stdout",
          "text": [
            "enter a num11\n",
            "enter a num22\n",
            "12\n"
          ]
        }
      ]
    },
    {
      "cell_type": "markdown",
      "source": [
        "# Progrm No.3\n",
        "Create a calculator that takes two numbers as input and performs addition, subtraction, multiplication, and division. Display the results for each operation.\n"
      ],
      "metadata": {
        "id": "tSSiGiiBfqNT"
      }
    },
    {
      "cell_type": "code",
      "source": [
        "x= int(input(\"enter a numeber\"))\n",
        "y= int(input(\"enter a number\"))\n",
        "print(\"adition\", x + y )\n",
        "print(\"subtraction\", x - y )\n",
        "print(\"multiplication\", x * y )\n",
        "print(\"division\", x / y )\n"
      ],
      "metadata": {
        "colab": {
          "base_uri": "https://localhost:8080/"
        },
        "id": "X4Sqw667dTBo",
        "outputId": "49cb10ae-368e-48ad-fc33-f677d50b2a7f"
      },
      "execution_count": null,
      "outputs": [
        {
          "output_type": "stream",
          "name": "stdout",
          "text": [
            "enter a numeber6\n",
            "enter a number2\n",
            "adition 8\n",
            "subtraction 4\n",
            "multiplication 12\n",
            "division 3.0\n"
          ]
        }
      ]
    },
    {
      "cell_type": "markdown",
      "source": [
        "# Progam No.4\n",
        " Write a program where the user enters a number as a string (e.g., \"5\"), and the program converts this string to an integer and prints out the square of this number."
      ],
      "metadata": {
        "id": "4y81LDl9orSx"
      }
    },
    {
      "cell_type": "code",
      "source": [
        "x= input(\"enter a number\")\n",
        "y= int(x)\n",
        "square= y**2\n",
        "print(square)"
      ],
      "metadata": {
        "colab": {
          "base_uri": "https://localhost:8080/"
        },
        "id": "P0qOTsTHdS93",
        "outputId": "3e8653ea-6140-483a-f96c-7ff17f9ed894"
      },
      "execution_count": null,
      "outputs": [
        {
          "output_type": "stream",
          "name": "stdout",
          "text": [
            "enter a number3\n",
            "9\n"
          ]
        }
      ]
    },
    {
      "cell_type": "markdown",
      "source": [
        "# Program No.5\n",
        "Variable Swap Exercise: Define two variables with numeric values. Write a code segment to swap the values of these variables without using a third variable."
      ],
      "metadata": {
        "id": "RcMjFkMaqdLE"
      }
    },
    {
      "cell_type": "code",
      "source": [
        "x= 5\n",
        "y= 10\n",
        "# Before sweaping\n",
        "print(\"value of x:\",x,\"value of y:\",y)\n",
        "x,y=y,x\n",
        "# After sweaping\n",
        "print(\"value of x:\",x,\"value of y:\",y)\n"
      ],
      "metadata": {
        "colab": {
          "base_uri": "https://localhost:8080/"
        },
        "id": "MMFZnrTMdS7Z",
        "outputId": "28c4e579-490b-4ddc-c2d8-c2babc8c2dc0"
      },
      "execution_count": null,
      "outputs": [
        {
          "output_type": "stream",
          "name": "stdout",
          "text": [
            "value of x: 5 value of y: 10\n",
            "value of x: 10 value of y: 5\n"
          ]
        }
      ]
    }
  ]
}