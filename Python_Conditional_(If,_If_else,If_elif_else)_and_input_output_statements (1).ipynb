{
  "nbformat": 4,
  "nbformat_minor": 0,
  "metadata": {
    "colab": {
      "provenance": []
    },
    "kernelspec": {
      "name": "python3",
      "display_name": "Python 3"
    },
    "language_info": {
      "name": "python"
    }
  },
  "cells": [
    {
      "cell_type": "markdown",
      "source": [
        "# Program No.1\n",
        " Ask the user to input their age. If the input is not a number, print an error message; otherwise, print a congratulatory message."
      ],
      "metadata": {
        "id": "iDGIXCfp-yUk"
      }
    },
    {
      "cell_type": "code",
      "execution_count": null,
      "metadata": {
        "colab": {
          "base_uri": "https://localhost:8080/"
        },
        "id": "rfv8o3At-pIh",
        "outputId": "4f23afd2-7a98-48bd-b0a1-15bfc4850f34"
      },
      "outputs": [
        {
          "output_type": "stream",
          "name": "stdout",
          "text": [
            "enter your age22\n",
            "Congratulation You are 22 years old\n"
          ]
        }
      ],
      "source": [
        "age= input(\"enter your age\")\n",
        "if age.isdigit():\n",
        "  print(\"Congratulation\", \"You are\",age,\"years old\")\n",
        "else:\n",
        "  print(\"You choose wrong keyword\")\n"
      ]
    },
    {
      "cell_type": "markdown",
      "source": [
        "# Program No.2\n",
        "Write a program that takes a user's name and favorite color as input and prints a creatively formatted message using this information."
      ],
      "metadata": {
        "id": "DFDmtRLPFFVB"
      }
    },
    {
      "cell_type": "code",
      "source": [
        "name= input(\"Enter our name\")\n",
        "colour= input(\"enter our favourite colour\")\n",
        "print(\"Hello\",name,\"Your favourite colour is\",colour)"
      ],
      "metadata": {
        "id": "ZTzllA79FD1z",
        "colab": {
          "base_uri": "https://localhost:8080/"
        },
        "outputId": "1dc773a9-7fd0-4f8a-9bcb-4607b52a1870"
      },
      "execution_count": null,
      "outputs": [
        {
          "output_type": "stream",
          "name": "stdout",
          "text": [
            "Enter our nameFaizan\n",
            "enter our favourite colourBlack\n",
            "Hello Faizan Your favourite colour is Black\n"
          ]
        }
      ]
    },
    {
      "cell_type": "markdown",
      "source": [
        "# Program No.3\n",
        "Write a program that converts temperature from Fahrenheit to Celsius and vice versa. The user should be able to input the temperature and select the conversion they want.\n"
      ],
      "metadata": {
        "id": "lT6bn12coqVh"
      }
    },
    {
      "cell_type": "code",
      "source": [
        "temp= int(input(\"enter a temperature\"))\n",
        "unit= input(\"enter the desired unit F or C\")\n",
        "if unit == \"C\":\n",
        "  # Fahrenheit to Celsius\n",
        "  Celsius= (temp - 32) * 5/9\n",
        "  print(\"Celsius:\",Celsius)\n",
        "elif unit == \"F\":\n",
        "  # Celsius to Fahrenheit\n",
        "  Fahrenheit= (temp * (9/5)) + 32\n",
        "  print(\"Fahrenheit:\",Fahrenheit)\n",
        "else:\n",
        "  print(\"you enter the wrong unit\")\n",
        "\n"
      ],
      "metadata": {
        "id": "jJzTM_f1FDV9",
        "colab": {
          "base_uri": "https://localhost:8080/"
        },
        "outputId": "75f17a96-86d3-40ee-a080-fc1ea1ad8ddb"
      },
      "execution_count": null,
      "outputs": [
        {
          "output_type": "stream",
          "name": "stdout",
          "text": [
            "enter a temperature33\n",
            "enter the desired unit F or Ck\n",
            "you enter the wrong unit\n"
          ]
        }
      ]
    },
    {
      "cell_type": "markdown",
      "source": [
        "# Program No.4\n",
        " Ask the user to input their monthly income and expenses (rent, food, transportation). Calculate and print their total expenses and remaining balance. Ensure that the input is cast to the correct numeric type for calculations."
      ],
      "metadata": {
        "id": "zU8AkxRxMTQM"
      }
    },
    {
      "cell_type": "code",
      "source": [
        "x= int(input(\"enter your monthly income\"))\n",
        "r= int(input(\"enter your monthly rent expenses\"))\n",
        "f= int(input(\"enter your monthly food expenses\"))\n",
        "t= int(input(\"enter your monthly transportation expenses\"))\n",
        "# Total Expenses\n",
        "T_E= r + f + t\n",
        "# Remaining Balance\n",
        "# monthly income - total expenses\n",
        "R_B= x - T_E\n",
        "print(\"Total Expenses:\",T_E)\n",
        "print(\"Remaining Balance:\",R_B)\n"
      ],
      "metadata": {
        "id": "qhfmj4KRFDLc",
        "colab": {
          "base_uri": "https://localhost:8080/"
        },
        "outputId": "ecb16ec6-7609-47c5-c365-39120c0e40b8"
      },
      "execution_count": null,
      "outputs": [
        {
          "output_type": "stream",
          "name": "stdout",
          "text": [
            "enter your monthly income30000\n",
            "enter your monthly rent expenses2500\n",
            "enter your monthly food expenses5000\n",
            "enter your monthly transportation expenses8000\n",
            "Total Expenses: 15500\n",
            "Remaining Balance: 14500\n"
          ]
        }
      ]
    }
  ]
}