{
  "nbformat": 4,
  "nbformat_minor": 0,
  "metadata": {
    "colab": {
      "provenance": []
    },
    "kernelspec": {
      "name": "python3",
      "display_name": "Python 3"
    },
    "language_info": {
      "name": "python"
    }
  },
  "cells": [
    {
      "cell_type": "markdown",
      "source": [
        "\n",
        "For Loop with Range and Step: Write a program that uses a for loop with a range and a step to print every odd number"
      ],
      "metadata": {
        "id": "fwLztLyqHNnx"
      }
    },
    {
      "cell_type": "code",
      "source": [
        "for x in range(1,20,2):\n",
        "     print(x)"
      ],
      "metadata": {
        "colab": {
          "base_uri": "https://localhost:8080/"
        },
        "id": "kTbAaGo8HHaW",
        "outputId": "7c5cb2bf-e0a7-4f8e-909e-917eade45bfa"
      },
      "execution_count": null,
      "outputs": [
        {
          "output_type": "stream",
          "name": "stdout",
          "text": [
            "1\n",
            "3\n",
            "5\n",
            "7\n",
            "9\n",
            "11\n",
            "13\n",
            "15\n",
            "17\n",
            "19\n"
          ]
        }
      ]
    },
    {
      "cell_type": "markdown",
      "source": [
        "Write a program that uses a while loop to repeatedly ask the user for a number until they enter 0, then exits."
      ],
      "metadata": {
        "id": "vAm4r2dHKG3a"
      }
    },
    {
      "cell_type": "code",
      "source": [
        "x=None\n",
        "while x!=0:\n",
        "  x= int(input(\"Enter a number\"))\n",
        "  print(x)"
      ],
      "metadata": {
        "colab": {
          "base_uri": "https://localhost:8080/"
        },
        "id": "KY_P38zdHHXt",
        "outputId": "aea15603-be4c-4729-b332-e3ac54114216"
      },
      "execution_count": null,
      "outputs": [
        {
          "output_type": "stream",
          "name": "stdout",
          "text": [
            "Enter a number67\n",
            "67\n",
            "Enter a number576\n",
            "576\n",
            "Enter a number354\n",
            "354\n",
            "Enter a number0\n",
            "0\n"
          ]
        }
      ]
    },
    {
      "cell_type": "markdown",
      "source": [
        " Given a string, write a program that counts the number of times each character appears in the string using a loop"
      ],
      "metadata": {
        "id": "fV5RAE05K3oq"
      }
    },
    {
      "cell_type": "code",
      "source": [
        "count = 0\n",
        "txt= \"Pakistan is a Country\"\n",
        "char= \"s\"\n",
        "for i in txt:\n",
        "  if i == char:\n",
        "    count += 1\n",
        "\n",
        "print(count)"
      ],
      "metadata": {
        "colab": {
          "base_uri": "https://localhost:8080/"
        },
        "id": "rHlpN-E3HHU9",
        "outputId": "6daf3711-3e6a-4625-f32b-93d696b06568"
      },
      "execution_count": null,
      "outputs": [
        {
          "output_type": "stream",
          "name": "stdout",
          "text": [
            "2\n"
          ]
        }
      ]
    },
    {
      "cell_type": "code",
      "source": [
        "txt.split()"
      ],
      "metadata": {
        "colab": {
          "base_uri": "https://localhost:8080/"
        },
        "id": "JnGOwmHLHHRL",
        "outputId": "dccd7ba3-b950-4672-aaad-21024be5334a"
      },
      "execution_count": null,
      "outputs": [
        {
          "output_type": "execute_result",
          "data": {
            "text/plain": [
              "['Pakistan', 'is', 'a', 'Country']"
            ]
          },
          "metadata": {},
          "execution_count": 28
        }
      ]
    },
    {
      "cell_type": "code",
      "source": [
        "txt."
      ],
      "metadata": {
        "colab": {
          "base_uri": "https://localhost:8080/"
        },
        "id": "vpxS0zhGHHOx",
        "outputId": "087845d4-c288-4764-dd81-187e3cd7d109"
      },
      "execution_count": null,
      "outputs": [
        {
          "output_type": "execute_result",
          "data": {
            "text/plain": [
              "0"
            ]
          },
          "metadata": {},
          "execution_count": 30
        }
      ]
    }
  ]
}