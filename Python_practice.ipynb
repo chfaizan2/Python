{
  "nbformat": 4,
  "nbformat_minor": 0,
  "metadata": {
    "colab": {
      "provenance": []
    },
    "kernelspec": {
      "name": "python3",
      "display_name": "Python 3"
    },
    "language_info": {
      "name": "python"
    }
  },
  "cells": [
    {
      "cell_type": "code",
      "execution_count": null,
      "metadata": {
        "colab": {
          "base_uri": "https://localhost:8080/"
        },
        "id": "4I5qAAZLGnof",
        "outputId": "ac1777b5-4b3b-4071-c154-511fe1043973"
      },
      "outputs": [
        {
          "output_type": "stream",
          "name": "stdout",
          "text": [
            "enter your height in meters32\n",
            "enter your weight in kilogams32\n",
            "32.0\n",
            "Obese\n"
          ]
        }
      ],
      "source": [
        "H= int(input(\"enter your height in meters\"))\n",
        "W= int(input(\"enter your weight in kilogams\"))\n",
        "BMI= ((W/H)*H )\n",
        "print(BMI)\n",
        "if BMI < 18.5:\n",
        "  print(\"Underweight\")\n",
        "elif BMI >= 18.5 and BMI <= 24.9:\n",
        "  print(\"Normal Weight\")\n",
        "elif BMI >= 25 and BMI <= 29.9:\n",
        "  print(\"Overweight\")\n",
        "else:\n",
        "  print(\"Obese\")\n"
      ]
    },
    {
      "cell_type": "code",
      "source": [
        "a= \"Hello Wold\"\n",
        "print(a[0:4+1])"
      ],
      "metadata": {
        "colab": {
          "base_uri": "https://localhost:8080/"
        },
        "id": "suTOHUzOY3nt",
        "outputId": "392bb05a-13f4-4c2b-93a3-cea8794a0059"
      },
      "execution_count": null,
      "outputs": [
        {
          "output_type": "stream",
          "name": "stdout",
          "text": [
            "Hello\n"
          ]
        }
      ]
    },
    {
      "cell_type": "code",
      "source": [
        "len(a)"
      ],
      "metadata": {
        "colab": {
          "base_uri": "https://localhost:8080/"
        },
        "id": "R-mBkbHSY3iz",
        "outputId": "f581fedb-db55-469f-b735-5ca4f4d8ca62"
      },
      "execution_count": null,
      "outputs": [
        {
          "output_type": "execute_result",
          "data": {
            "text/plain": [
              "10"
            ]
          },
          "metadata": {},
          "execution_count": 3
        }
      ]
    },
    {
      "cell_type": "code",
      "source": [
        "txt= \"Pakistan is a country\"\n",
        "\"is\" in txt"
      ],
      "metadata": {
        "colab": {
          "base_uri": "https://localhost:8080/"
        },
        "id": "xp9PGu_KY3el",
        "outputId": "128574ec-57eb-4452-9ad5-56c8137eb494"
      },
      "execution_count": null,
      "outputs": [
        {
          "output_type": "execute_result",
          "data": {
            "text/plain": [
              "True"
            ]
          },
          "metadata": {},
          "execution_count": 4
        }
      ]
    },
    {
      "cell_type": "code",
      "source": [
        "x= \"We are muslims\"\n",
        "\"muslims\" in x"
      ],
      "metadata": {
        "colab": {
          "base_uri": "https://localhost:8080/"
        },
        "id": "tDNyz8XLY3bz",
        "outputId": "bef97719-d155-4f81-9da2-e0e6f2f220e9"
      },
      "execution_count": null,
      "outputs": [
        {
          "output_type": "execute_result",
          "data": {
            "text/plain": [
              "True"
            ]
          },
          "metadata": {},
          "execution_count": 5
        }
      ]
    }
  ]
}