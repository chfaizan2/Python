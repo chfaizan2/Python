{
  "nbformat": 4,
  "nbformat_minor": 0,
  "metadata": {
    "colab": {
      "provenance": []
    },
    "kernelspec": {
      "name": "python3",
      "display_name": "Python 3"
    },
    "language_info": {
      "name": "python"
    }
  },
  "cells": [
    {
      "cell_type": "code",
      "execution_count": null,
      "metadata": {
        "colab": {
          "base_uri": "https://localhost:8080/"
        },
        "id": "Kq0cXWB0Dy5u",
        "outputId": "a97f1d43-d177-4e35-e17e-0e96bc841dff"
      },
      "outputs": [
        {
          "output_type": "stream",
          "name": "stdout",
          "text": [
            "{'Sr Nmb': 24, 'Date': 6, 'Product ID': 546, 'Quantity': 150}\n"
          ]
        }
      ],
      "source": [
        "stock ={\n",
        "    \"Sr Nmb\":24,\n",
        "    \"Date\":6,\n",
        "    \"Product ID\":546,\n",
        "    \"Quantity\":150\n",
        "}\n",
        "print(stock)"
      ]
    },
    {
      "cell_type": "code",
      "source": [
        "stock.items()"
      ],
      "metadata": {
        "colab": {
          "base_uri": "https://localhost:8080/"
        },
        "id": "xt93GM3AV30Y",
        "outputId": "9894abff-3cc4-4233-d183-7ef8745eae5e"
      },
      "execution_count": null,
      "outputs": [
        {
          "output_type": "execute_result",
          "data": {
            "text/plain": [
              "dict_items([('Sr Nmb', 24), ('Date', 6), ('Product ID', 546), ('Quantity', 150)])"
            ]
          },
          "metadata": {},
          "execution_count": 63
        }
      ]
    },
    {
      "cell_type": "code",
      "source": [
        "for items, quantity in stock.items():\n",
        "  stock[items] = quantity + 10\n",
        "print(stock)"
      ],
      "metadata": {
        "colab": {
          "base_uri": "https://localhost:8080/"
        },
        "id": "CDYFIZzJHxfk",
        "outputId": "1836ab04-27d8-4cb5-a3c7-569cb2e251f5"
      },
      "execution_count": null,
      "outputs": [
        {
          "output_type": "stream",
          "name": "stdout",
          "text": [
            "{'Sr Nmb': 34, 'Date': 16, 'Product ID': 556, 'Quantity': 160}\n"
          ]
        }
      ]
    },
    {
      "cell_type": "code",
      "source": [
        "stock.values()"
      ],
      "metadata": {
        "colab": {
          "base_uri": "https://localhost:8080/"
        },
        "id": "Xa5H4L1JHxbM",
        "outputId": "f2d95b3a-8744-4a6d-ae1f-5cc576e98687"
      },
      "execution_count": null,
      "outputs": [
        {
          "output_type": "execute_result",
          "data": {
            "text/plain": [
              "dict_values([34, 16, 556, 160])"
            ]
          },
          "metadata": {},
          "execution_count": 65
        }
      ]
    },
    {
      "cell_type": "code",
      "source": [
        "quantity = max(stock.values())\n",
        "print(\"Maximum quantity:\",quantity)"
      ],
      "metadata": {
        "colab": {
          "base_uri": "https://localhost:8080/"
        },
        "id": "1H_xfuaFHxYw",
        "outputId": "a9087313-7640-4c87-eff3-9f96dff7bc16"
      },
      "execution_count": null,
      "outputs": [
        {
          "output_type": "stream",
          "name": "stdout",
          "text": [
            "Maximum quantity: 556\n"
          ]
        }
      ]
    }
  ]
}